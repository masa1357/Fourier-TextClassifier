{
 "cells": [
  {
   "cell_type": "markdown",
   "metadata": {},
   "source": [
    "## フーリエ変換を用いたテキストのクラス分類器を実装する"
   ]
  },
  {
   "cell_type": "code",
   "execution_count": 1,
   "metadata": {},
   "outputs": [
    {
     "name": "stderr",
     "output_type": "stream",
     "text": [
      "/usr/local/lib/python3.10/dist-packages/tqdm/auto.py:21: TqdmWarning: IProgress not found. Please update jupyter and ipywidgets. See https://ipywidgets.readthedocs.io/en/stable/user_install.html\n",
      "  from .autonotebook import tqdm as notebook_tqdm\n"
     ]
    }
   ],
   "source": [
    "import os\n",
    "import pandas as pd\n",
    "import numpy as np\n",
    "from typing import Dict, List\n",
    "import importlib\n",
    "from pathlib import Path\n",
    "import matplotlib.pyplot as plt\n",
    "\n",
    "# import MeCab\n",
    "from datasets import load_dataset\n",
    "import pickle\n",
    "import skfuzzy as fuzz\n",
    "from skfuzzy import control as ctrl\n",
    "from nltk.corpus import stopwords\n",
    "import nltk\n",
    "from nltk.tokenize import word_tokenize\n",
    "from sklearn.feature_extraction.text import TfidfVectorizer\n",
    "from scipy.fft import fft\n",
    "from gensim.models import Word2Vec\n",
    "from nltk.tokenize import word_tokenize\n",
    "from tqdm import tqdm\n",
    "tqdm.pandas()"
   ]
  },
  {
   "cell_type": "code",
   "execution_count": 2,
   "metadata": {},
   "outputs": [
    {
     "name": "stdout",
     "output_type": "stream",
     "text": [
      "BASE_PATH: /home/masa1357/Dockerdata/gitfile/Fourier-TextClassifier\n",
      "DATA_PATH: /home/masa1357/Dockerdata/gitfile/Fourier-TextClassifier/data\n",
      "MODEL_PATH: /home/masa1357/Dockerdata/gitfile/Fourier-TextClassifier/model\n"
     ]
    }
   ],
   "source": [
    "BASE_PATH = Path.cwd().parent\n",
    "DATA_PATH = BASE_PATH / \"data\"\n",
    "MODEL_PATH = BASE_PATH / \"model\"\n",
    "print(f\"BASE_PATH: {BASE_PATH}\")\n",
    "print(f\"DATA_PATH: {DATA_PATH}\")\n",
    "print(f\"MODEL_PATH: {MODEL_PATH}\")"
   ]
  },
  {
   "cell_type": "code",
   "execution_count": 3,
   "metadata": {},
   "outputs": [
    {
     "name": "stderr",
     "output_type": "stream",
     "text": [
      "2024-07-08 17:23:44,007 : python.util : INFO : 34 : Test_message\n"
     ]
    }
   ],
   "source": [
    "import python.util as util\n",
    "\n",
    "importlib.reload(util)\n",
    "# ? logger読み込み\n",
    "name = \"15-Ensemble\"\n",
    "logger = util.set_logger()\n",
    "# ? seed値固定\n",
    "seed = 42\n",
    "util.set_seed(seed)"
   ]
  },
  {
   "cell_type": "markdown",
   "metadata": {},
   "source": [
    "### DATASETS\n",
    "今回は<a href=\"https://huggingface.co/datasets/stanfordnlp/imdb\">Large Movie Review Dataset</a>を用いる．"
   ]
  },
  {
   "cell_type": "code",
   "execution_count": 4,
   "metadata": {},
   "outputs": [
    {
     "data": {
      "text/plain": [
       "PosixPath('/home/masa1357/Dockerdata/gitfile/Fourier-TextClassifier/data')"
      ]
     },
     "execution_count": 4,
     "metadata": {},
     "output_type": "execute_result"
    }
   ],
   "source": [
    "DATA_PATH"
   ]
  },
  {
   "cell_type": "code",
   "execution_count": 5,
   "metadata": {},
   "outputs": [
    {
     "name": "stdout",
     "output_type": "stream",
     "text": [
      "/home/masa1357/Dockerdata/gitfile/Fourier-TextClassifier/data/train.pkl\n"
     ]
    }
   ],
   "source": [
    "print(DATA_PATH / \"train.pkl\")"
   ]
  },
  {
   "cell_type": "code",
   "execution_count": 6,
   "metadata": {},
   "outputs": [],
   "source": [
    "# INFO: データ読み込み\n",
    "# pklの読み込み\n",
    "from datasets import load_dataset\n",
    "\n",
    "ds = load_dataset(\n",
    "    \"stanfordnlp/imdb\"\n",
    ")"
   ]
  },
  {
   "cell_type": "code",
   "execution_count": 7,
   "metadata": {},
   "outputs": [],
   "source": [
    "train = ds[\"train\"]\n",
    "test = ds[\"test\"]"
   ]
  },
  {
   "cell_type": "code",
   "execution_count": 8,
   "metadata": {},
   "outputs": [
    {
     "name": "stderr",
     "output_type": "stream",
     "text": [
      "[nltk_data] Downloading package wordnet to /root/nltk_data...\n",
      "[nltk_data]   Package wordnet is already up-to-date!\n"
     ]
    },
    {
     "data": {
      "text/plain": [
       "True"
      ]
     },
     "execution_count": 8,
     "metadata": {},
     "output_type": "execute_result"
    }
   ],
   "source": [
    "import nltk\n",
    "\n",
    "nltk.download(\"wordnet\")"
   ]
  },
  {
   "cell_type": "code",
   "execution_count": 9,
   "metadata": {},
   "outputs": [
    {
     "name": "stderr",
     "output_type": "stream",
     "text": [
      "[nltk_data] Downloading package punkt to /root/nltk_data...\n",
      "[nltk_data]   Package punkt is already up-to-date!\n",
      "[nltk_data] Downloading package averaged_perceptron_tagger to\n",
      "[nltk_data]     /root/nltk_data...\n",
      "[nltk_data]   Package averaged_perceptron_tagger is already up-to-\n",
      "[nltk_data]       date!\n",
      "[nltk_data] Downloading package sentiwordnet to /root/nltk_data...\n",
      "[nltk_data]   Package sentiwordnet is already up-to-date!\n",
      "[nltk_data] Downloading package wordnet to /root/nltk_data...\n",
      "[nltk_data]   Package wordnet is already up-to-date!\n"
     ]
    },
    {
     "ename": "NameError",
     "evalue": "name 'train_df' is not defined",
     "output_type": "error",
     "traceback": [
      "\u001b[0;31m---------------------------------------------------------------------------\u001b[0m",
      "\u001b[0;31mNameError\u001b[0m                                 Traceback (most recent call last)",
      "Cell \u001b[0;32mIn[9], line 135\u001b[0m\n\u001b[1;32m    131\u001b[0m         \u001b[38;5;28;01mreturn\u001b[39;00m \u001b[38;5;241m0\u001b[39m  \u001b[38;5;66;03m# ネガティブ\u001b[39;00m\n\u001b[1;32m    134\u001b[0m \u001b[38;5;66;03m# データフレームに品詞タグ付け、感情スコア、およびTIFSの結果を追加\u001b[39;00m\n\u001b[0;32m--> 135\u001b[0m train_df[\u001b[38;5;124m\"\u001b[39m\u001b[38;5;124mpos_tags\u001b[39m\u001b[38;5;124m\"\u001b[39m] \u001b[38;5;241m=\u001b[39m \u001b[43mtrain_df\u001b[49m[\u001b[38;5;124m\"\u001b[39m\u001b[38;5;124mtext\u001b[39m\u001b[38;5;124m\"\u001b[39m]\u001b[38;5;241m.\u001b[39mapply(pos_tagging)\n\u001b[1;32m    136\u001b[0m train_df[\u001b[38;5;124m\"\u001b[39m\u001b[38;5;124msentiment_scores\u001b[39m\u001b[38;5;124m\"\u001b[39m] \u001b[38;5;241m=\u001b[39m train_df[\u001b[38;5;124m\"\u001b[39m\u001b[38;5;124mpos_tags\u001b[39m\u001b[38;5;124m\"\u001b[39m]\u001b[38;5;241m.\u001b[39mapply(sentiment_analysis)\n\u001b[1;32m    137\u001b[0m train_df[\u001b[38;5;124m\"\u001b[39m\u001b[38;5;124mtifs\u001b[39m\u001b[38;5;124m\"\u001b[39m] \u001b[38;5;241m=\u001b[39m train_df[\u001b[38;5;124m\"\u001b[39m\u001b[38;5;124msentiment_scores\u001b[39m\u001b[38;5;124m\"\u001b[39m]\u001b[38;5;241m.\u001b[39mapply(calculate_tifs)\n",
      "\u001b[0;31mNameError\u001b[0m: name 'train_df' is not defined"
     ]
    }
   ],
   "source": [
    "import pandas as pd\n",
    "import nltk\n",
    "from nltk.corpus import sentiwordnet as swn\n",
    "from nltk.corpus import wordnet\n",
    "from nltk.tokenize import word_tokenize\n",
    "from nltk import pos_tag\n",
    "import numpy as np\n",
    "from sklearn.metrics import accuracy_score, f1_score\n",
    "\n",
    "# データセットの読み込み（例としてCSVファイルから読み込む場合）\n",
    "# train_df = pd.read_csv('path_to_your_dataset.csv')\n",
    "\n",
    "# 例としてデータフレームを作成\n",
    "# data = {\"text\": [\"I love this movie!\", \"This is a terrible product.\"], \"label\": [1, 0]}\n",
    "# train_df = pd.DataFrame(data)\n",
    "\n",
    "# nltkのリソースをダウンロード（初回のみ必要）\n",
    "nltk.download(\"punkt\")\n",
    "nltk.download(\"averaged_perceptron_tagger\")\n",
    "nltk.download(\"sentiwordnet\")\n",
    "nltk.download(\"wordnet\")\n",
    "\n",
    "\n",
    "# テキストの解析と品詞タグ付けを行う関数\n",
    "def pos_tagging(text):\n",
    "    tokens = word_tokenize(text)\n",
    "    pos_tags = pos_tag(tokens)\n",
    "    return pos_tags\n",
    "\n",
    "\n",
    "# 品詞タグをWordNetの形式に変換する関数\n",
    "def get_wordnet_pos(treebank_tag):\n",
    "    if treebank_tag.startswith(\"J\"):\n",
    "        return wordnet.ADJ\n",
    "    elif treebank_tag.startswith(\"V\"):\n",
    "        return wordnet.VERB\n",
    "    elif treebank_tag.startswith(\"N\"):\n",
    "        return wordnet.NOUN\n",
    "    elif treebank_tag.startswith(\"R\"):\n",
    "        return wordnet.ADV\n",
    "    else:\n",
    "        return None\n",
    "\n",
    "\n",
    "# 単語の感情スコアを取得する関数\n",
    "def get_sentiment_score(word, pos):\n",
    "    wn_pos = get_wordnet_pos(pos)\n",
    "    if wn_pos is not None:\n",
    "        synsets = list(swn.senti_synsets(word, wn_pos))\n",
    "        if synsets:\n",
    "            # 最初のシノニムセットを使用して感情スコアを計算\n",
    "            swn_synset = synsets[0]\n",
    "            return swn_synset.pos_score(), swn_synset.neg_score()\n",
    "    return 0, 0\n",
    "\n",
    "\n",
    "# 各テキストの単語に対して感情スコアを取得する関数\n",
    "def sentiment_analysis(pos_tags):\n",
    "    sentiment_scores = []\n",
    "    for word, pos in pos_tags:\n",
    "        pos_score, neg_score = get_sentiment_score(word, pos)\n",
    "        sentiment_scores.append((word, pos, pos_score, neg_score))\n",
    "    return sentiment_scores\n",
    "\n",
    "\n",
    "# 時系列直観的ファジー値（TIFS）を計算する関数\n",
    "def calculate_tifs(sentiment_scores):\n",
    "    tifs = []\n",
    "    for i, (word, pos, pos_score, neg_score) in enumerate(sentiment_scores):\n",
    "        tifs.append((word, pos, pos_score, neg_score, i, 1 - (pos_score + neg_score)))\n",
    "    return tifs\n",
    "\n",
    "\n",
    "# FFTを適用する関数\n",
    "def apply_fft(tifs):\n",
    "    membership_values = [x[2] for x in tifs]  # メンバーシップ度（ポジティブスコア）\n",
    "    non_membership_values = [\n",
    "        x[3] for x in tifs\n",
    "    ]  # 非メンバーシップ度（ネガティブスコア）\n",
    "\n",
    "    # メンバーシップ値と非メンバーシップ値に対してFFTを適用\n",
    "    fft_membership = np.fft.fft(membership_values)\n",
    "    fft_non_membership = np.fft.fft(non_membership_values)\n",
    "\n",
    "    return fft_membership, fft_non_membership\n",
    "\n",
    "\n",
    "# 実数部分とパワー項を計算する関数\n",
    "def calculate_real_and_power(fft_results):\n",
    "    fft_membership, fft_non_membership = fft_results\n",
    "\n",
    "    # 実数部分を抽出\n",
    "    real_membership = np.real(fft_membership)\n",
    "    real_non_membership = np.real(fft_non_membership)\n",
    "\n",
    "    # パワー項を計算\n",
    "    power_membership = np.abs(fft_membership) ** 2\n",
    "    power_non_membership = np.abs(fft_non_membership) ** 2\n",
    "\n",
    "    # 合計パワー項を計算\n",
    "    total_power_membership = np.sum(power_membership)\n",
    "    total_power_non_membership = np.sum(power_non_membership)\n",
    "\n",
    "    return (\n",
    "        real_membership,\n",
    "        real_non_membership,\n",
    "        total_power_membership,\n",
    "        total_power_non_membership,\n",
    "    )\n",
    "\n",
    "\n",
    "# 感情を分類する関数\n",
    "def classify_sentiment(real_and_power):\n",
    "    (\n",
    "        real_membership,\n",
    "        real_non_membership,\n",
    "        total_power_membership,\n",
    "        total_power_non_membership,\n",
    "    ) = real_and_power\n",
    "\n",
    "    # 角周波数振幅を使用して分類\n",
    "    angular_frequency_membership = np.abs(real_membership)\n",
    "    angular_frequency_non_membership = np.abs(real_non_membership)\n",
    "\n",
    "    # パワー項の合計と角周波数振幅を基に感情を分類\n",
    "    if (angular_frequency_membership[1] > angular_frequency_non_membership[1]) or (\n",
    "        total_power_membership > total_power_non_membership\n",
    "    ):\n",
    "        return 1  # ポジティブ\n",
    "    else:\n",
    "        return 0  # ネガティブ\n",
    "\n",
    "\n",
    "# データフレームに品詞タグ付け、感情スコア、およびTIFSの結果を追加\n",
    "train_df[\"pos_tags\"] = train_df[\"text\"].apply(pos_tagging)\n",
    "train_df[\"sentiment_scores\"] = train_df[\"pos_tags\"].apply(sentiment_analysis)\n",
    "train_df[\"tifs\"] = train_df[\"sentiment_scores\"].apply(calculate_tifs)\n",
    "\n",
    "# FFTの結果をデータフレームに追加\n",
    "train_df[\"fft_results\"] = train_df[\"tifs\"].apply(apply_fft)\n",
    "\n",
    "# 実数部分とパワー項をデータフレームに追加\n",
    "train_df[\"real_and_power\"] = train_df[\"fft_results\"].apply(calculate_real_and_power)\n",
    "\n",
    "# 感情を分類\n",
    "train_df[\"predicted_label\"] = train_df[\"real_and_power\"].apply(classify_sentiment)\n",
    "\n",
    "# 精度とF1スコアを計算\n",
    "accuracy = accuracy_score(train_df[\"label\"], train_df[\"predicted_label\"])\n",
    "f1 = f1_score(train_df[\"label\"], train_df[\"predicted_label\"])\n",
    "\n",
    "print(f\"Accuracy: {accuracy}\")\n",
    "print(f\"F1 Score: {f1}\")"
   ]
  }
 ],
 "metadata": {
  "kernelspec": {
   "display_name": "Python 3",
   "language": "python",
   "name": "python3"
  },
  "language_info": {
   "codemirror_mode": {
    "name": "ipython",
    "version": 3
   },
   "file_extension": ".py",
   "mimetype": "text/x-python",
   "name": "python",
   "nbconvert_exporter": "python",
   "pygments_lexer": "ipython3",
   "version": "3.10.12"
  }
 },
 "nbformat": 4,
 "nbformat_minor": 2
}
