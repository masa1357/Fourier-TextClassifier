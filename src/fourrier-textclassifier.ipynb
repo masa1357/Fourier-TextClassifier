{
 "cells": [
  {
   "cell_type": "markdown",
   "metadata": {},
   "source": [
    "## フーリエ変換を用いたテキストのクラス分類器を実装する"
   ]
  },
  {
   "cell_type": "code",
   "execution_count": 1,
   "metadata": {},
   "outputs": [
    {
     "name": "stderr",
     "output_type": "stream",
     "text": [
      "C:\\Users\\zigza\\AppData\\Local\\Packages\\PythonSoftwareFoundation.Python.3.11_qbz5n2kfra8p0\\LocalCache\\local-packages\\Python311\\site-packages\\tqdm\\auto.py:21: TqdmWarning: IProgress not found. Please update jupyter and ipywidgets. See https://ipywidgets.readthedocs.io/en/stable/user_install.html\n",
      "  from .autonotebook import tqdm as notebook_tqdm\n"
     ]
    }
   ],
   "source": [
    "import os\n",
    "import pandas as pd\n",
    "import numpy as np\n",
    "from typing import Dict, List\n",
    "import importlib\n",
    "from pathlib import Path\n",
    "import matplotlib.pyplot as plt\n",
    "# import MeCab\n",
    "from datasets import load_dataset\n",
    "import pickle"
   ]
  },
  {
   "cell_type": "code",
   "execution_count": 2,
   "metadata": {},
   "outputs": [
    {
     "name": "stdout",
     "output_type": "stream",
     "text": [
      "BASE_PATH: c:\\Users\\zigza\\OneDrive\\ドキュメント\\git\\Fourier-TextClassifier\n",
      "DATA_PATH: c:\\Users\\zigza\\OneDrive\\ドキュメント\\git\\Fourier-TextClassifier\\data\n",
      "MODEL_PATH: c:\\Users\\zigza\\OneDrive\\ドキュメント\\git\\Fourier-TextClassifier\\model\n"
     ]
    }
   ],
   "source": [
    "BASE_PATH = Path.cwd().parent\n",
    "DATA_PATH = BASE_PATH / \"data\"\n",
    "MODEL_PATH = BASE_PATH / \"model\"\n",
    "print(f\"BASE_PATH: {BASE_PATH}\")\n",
    "print(f\"DATA_PATH: {DATA_PATH}\")\n",
    "print(f\"MODEL_PATH: {MODEL_PATH}\")"
   ]
  },
  {
   "cell_type": "code",
   "execution_count": 3,
   "metadata": {},
   "outputs": [
    {
     "name": "stderr",
     "output_type": "stream",
     "text": [
      "2024-06-22 15:00:16,742 : python.util : INFO : 34 : Test_message\n"
     ]
    }
   ],
   "source": [
    "import python.util as util\n",
    "\n",
    "importlib.reload(util)\n",
    "# ? logger読み込み\n",
    "name = \"15-Ensemble\"\n",
    "logger = util.set_logger()\n",
    "# ? seed値固定\n",
    "seed = 42\n",
    "util.set_seed(seed)"
   ]
  },
  {
   "cell_type": "markdown",
   "metadata": {},
   "source": [
    "### DATASETS\n",
    "今回は<a href=\"https://huggingface.co/datasets/stanfordnlp/imdb\">Large Movie Review Dataset</a>を用いる．"
   ]
  },
  {
   "cell_type": "code",
   "execution_count": 7,
   "metadata": {},
   "outputs": [
    {
     "name": "stdout",
     "output_type": "stream",
     "text": [
      "[Read_data] start\n",
      "No files in data folder\n",
      "[Read_data] done in 12.97 s\n"
     ]
    }
   ],
   "source": [
    "#INFO: データ読み込み\n",
    "#DATA_PATHが空のフォルダである場合は、データのダウンロードを行う\n",
    "with util.timer(\"Read_data\"):\n",
    "    if os.listdir(DATA_PATH) == []:\n",
    "        logger.info(\"No files in data folder\")\n",
    "        ds = load_dataset(\"stanfordnlp/imdb\")\n",
    "    else:\n",
    "        logger.info(\"Files exist in data folder\")\n",
    "        with open(DATA_PATH / \"train.pkl\", \"rb\") as f:\n",
    "            train = pickle.load(f)\n",
    "        with open(DATA_PATH / \"test.pkl\", \"rb\") as f:\n",
    "            test = pickle.load(f)\n",
    "        ds = {\"train\": train, \"test\": test}\n",
    "\n",
    "    #INFO: データの分割\n",
    "    train = ds[\"train\"]\n",
    "    test = ds[\"test\"]\n",
    "\n",
    "    #INFO: データの保存\n",
    "    with open(DATA_PATH / \"train.pkl\", \"wb\") as f:\n",
    "        pickle.dump(train, f)\n",
    "    with open(DATA_PATH / \"test.pkl\", \"wb\") as f:\n",
    "        pickle.dump(test, f)"
   ]
  },
  {
   "cell_type": "code",
   "execution_count": null,
   "metadata": {},
   "outputs": [],
   "source": []
  }
 ],
 "metadata": {
  "kernelspec": {
   "display_name": "Python 3",
   "language": "python",
   "name": "python3"
  },
  "language_info": {
   "codemirror_mode": {
    "name": "ipython",
    "version": 3
   },
   "file_extension": ".py",
   "mimetype": "text/x-python",
   "name": "python",
   "nbconvert_exporter": "python",
   "pygments_lexer": "ipython3",
   "version": "3.11.9"
  }
 },
 "nbformat": 4,
 "nbformat_minor": 2
}
